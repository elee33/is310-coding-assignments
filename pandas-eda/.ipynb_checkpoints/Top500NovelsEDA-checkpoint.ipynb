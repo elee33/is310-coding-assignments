{
  "cells": [
    {
      "cell_type": "markdown",
      "id": "a1e1b34b-435d-4bde-b3a8-e102fcd8c9f5",
      "metadata": {},
      "source": [
        "# Exploring and Visualizing Cultural Bias in Top Ranked Novels\n",
        "\n",
        "## Introduction\n",
        "This notebook performs an exploratory data analysis (EDA) on two datasets: **Top 500 Greatest Novels** and **New York Times Hardcover Fiction Bestsellers**. The goal is to uncover patterns, gaps, and biases, focusing on author demographics, genre representation, and historical popularity.\n"
      ]
    },
    {
      "cell_type": "code",
      "execution_count": 1,
      "id": "b08b3423-ef7e-47f6-a541-6dbb13e8c401",
      "metadata": {},
      "outputs": [],
      "source": [
        "import pandas as pd\n",
        "import altair as alt\n",
        "\n",
        "# Load the datasets\n",
        "top500_df = pd.read_csv(\"https://raw.githubusercontent.com/melaniewalsh/responsible-datasets-in-context/main/datasets/top-500-novels/library_top_500.csv\")\n",
        "nyt_df = pd.read_csv(\"https://raw.githubusercontent.com/ecds/post45-datasets/main/nyt_full.tsv\", sep=\"\\t\")"
      ]
    },
    {
      "cell_type": "markdown",
      "id": "d245d4a1-d6b8-41d7-aee5-8e579d78ec5c",
      "metadata": {},
      "source": [
        "## Initial Data Overview\n",
        "We start by inspecting the structure and basic information about each dataset, including missing values and data types.\n"
      ]
    },
    {
      "cell_type": "code",
      "execution_count": 2,
      "id": "ca5f842b-02c6-44f7-8f1a-0ab84302f1c4",
      "metadata": {},
      "outputs": [],
      "source": [
        "# Display basic info about the datasets\n",
        "print(\"Top 500 Novels Dataset Info:\")\n",
        "top500_df.info()\n",
        "print(\"\\nNYT Bestsellers Dataset Info:\")\n",
        "nyt_df.info()\n"
      ]
    },
    {
      "cell_type": "markdown",
      "id": "d2939203-2768-4a31-bfa7-6e6f0b2a6489",
      "metadata": {},
      "source": [
        "### Handling Missing Data\n",
        "We will explore the missing data in the Top 500 Novels dataset and how it may affect our analysis. We use the `isna()` method to inspect missing values in specific columns and visualize their distribution.\n"
      ]
    },
    {
      "cell_type": "code",
      "execution_count": 3,
      "id": "dd2d90b9-5a3b-4f5c-8fe6-299f188347a0",
      "metadata": {},
      "outputs": [],
      "source": [
        "# Check for missing values in key columns\n",
        "missing_data = top500_df.isna().sum()\n",
        "missing_data"
      ]
    },
    {
      "cell_type": "markdown",
      "id": "4c7e889c-012e-452d-9e61-20db48e7a8a1",
      "metadata": {},
      "source": [
        "### Merging the Datasets\n",
        "We want to see if there are any common titles or authors between the datasets to understand the overlap. For this, we will use `merge()` and check the shared information between the two datasets.\n"
      ]
    },
    {
      "cell_type": "code",
      "execution_count": 4,
      "id": "13ac260e-bcb3-4b80-9a08-28f98eb54f11",
      "metadata": {},
      "outputs": [],
      "source": [
        "# Merge the datasets based on common 'title' and 'author'\n",
        "nyt_df['title'] = nyt_df['title'].str.capitalize()\n",
        "merged_df = top500_df.merge(nyt_df, how='inner', on=['title', 'author'])\n",
        "print(f\"Number of shared titles: {len(merged_df)}\")"
      ]
    },
    {
      "cell_type": "markdown",
      "id": "b091db56-bb8f-4f02-8ef9-50a6b49a02b5",
      "metadata": {},
      "source": [
        "## Exploratory Data Analysis (EDA)\n",
        "The next step is to perform an EDA to identify any noticeable patterns or biases. We start by understanding the genre distribution and author demographics in the Top 500 dataset.\n"
      ]
    },
    {
      "cell_type": "code",
      "execution_count": 5,
      "id": "15d25d02-8f59-497a-ae9f-33f8f474f99a",
      "metadata": {},
      "outputs": [],
      "source": [
        "# Plot the distribution of genres\n",
        "genre_counts = top500_df['genre'].value_counts().reset_index()\n",
        "genre_counts.columns = ['Genre', 'Count']\n",
        "\n",
        "genre_chart = alt.Chart(genre_counts).mark_bar().encode(\n",
        "    x='Count:Q',\n",
        "    y=alt.Y('Genre:N', sort='-x'),\n",
        "    color='Genre:N'\n",
        ").properties(\n",
        "    title=\"Genre Distribution in Top 500 Novels\"\n",
        ")\n",
        "genre_chart"
      ]
    },
    {
      "cell_type": "markdown",
      "id": "f43d28ec-4d8e-46d3-b4b5-85c3803a1f42",
      "metadata": {},
      "source": [
        "### Author Demographics\n",
        "The chart below shows the distribution of author genders in the dataset, helping us understand whether there are any biases in the gender representation of top-ranked novels.\n"
      ]
    },
    {
      "cell_type": "code",
      "execution_count": 6,
      "id": "5cce7637-6aaf-4e48-9108-bd7cfe27bcf9",
      "metadata": {},
      "outputs": [],
      "source": [
        "# Count author genders\n",
        "gender_counts = top500_df['author_gender'].value_counts().reset_index()\n",
        "gender_counts.columns = ['Gender', 'Count']\n",
        "\n",
        "gender_chart = alt.Chart(gender_counts).mark_bar().encode(\n",
        "    x='Count:Q',\n",
        "    y=alt.Y('Gender:N', sort='-x'),\n",
        "    color='Gender:N'\n",
        ").properties(\n",
        "    title=\"Author Gender Distribution in Top 500 Novels\"\n",
        ")\n",
        "gender_chart"
      ]
    },
    {
      "cell_type": "markdown",
      "id": "8e34f28c-b6e3-4d63-9f25-7efb26de99df",
      "metadata": {},
      "source": [
        "### Genre Trends Over Time\n",
        "We analyze how genre popularity has evolved over the years by creating a line chart of genre frequency over time.\n"
      ]
    },
    {
      "cell_type": "code",
      "execution_count": 7,
      "id": "d256a364-86e5-46cc-8356-8d7bb1986ea7",
      "metadata": {},
      "outputs": [],
      "source": [
        "# Create a datetime column for the publication year\n",
        "top500_df['pub_date'] = pd.to_datetime(top500_df['pub_year'].astype(str) + '-01-01', errors='coerce')\n",
        "\n",
        "# Plot genre frequency over time\n",
        "genre_over_time = top500_df.groupby(['pub_date', 'genre']).size().reset_index(name='Count')\n",
        "\n",
        "trend_chart = alt.Chart(genre_over_time).mark_line().encode(\n",
        "    x='pub_date:T',\n",
        "    y='Count:Q',\n",
        "    color='genre:N'\n",
        ").properties(\n",
        "    title=\"Genre Trends Over Time in Top 500 Novels\"\n",
        ")\n",
        "trend_chart"
      ]
    },
    {
      "cell_type": "markdown",
      "id": "b2ec9fbf-36e5-45b9-b9f9-dfbc5682b01d",
      "metadata": {},
      "source": [
        "## Conclusion\n",
        "Through our analysis, we observe potential biases in author gender and genre popularity. The merged dataset helps us understand overlaps between the Top 500 Greatest Novels and NYT Bestsellers, showing a trend in shared authors but not necessarily shared titles. This analysis informs future research in literature, helping to understand which genres or authors are given more visibility and why."
      ]
    }
  ],
  "metadata": {
    "kernelspec": {
      "display_name": "Python 3 (ipykernel)",
      "language": "python",
      "name": "python3"
    },
    "language_info": {
      "codemirror_mode": {
        "name": "ipython",
        "version": 3
      },
      "file_extension": ".py",
      "mimetype": "text/x-python",
      "name": "python",
      "nbconvert_exporter": "python",
      "pygments_lexer": "ipython3",
      "version": "3.12.2"
    }
  },
  "nbformat": 4,
  "nbformat_minor": 5
}

