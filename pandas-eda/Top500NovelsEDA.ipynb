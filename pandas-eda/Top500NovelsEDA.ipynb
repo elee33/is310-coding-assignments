{
 "cells": [
  {
   "cell_type": "markdown",
   "id": "a1e1b34b-435d-4bde-b3a8-e102fcd8c9f5",
   "metadata": {},
   "source": [
    "# Exploring and Visualizing Cultural Bias in Top Ranked Novels\n",
    "\n",
    "## Introduction\n",
    "This notebook performs an exploratory data analysis (EDA) on two datasets: **Top 500 Greatest Novels** and **New York Times Hardcover Fiction Bestsellers**. The goal is to uncover patterns, gaps, and biases, focusing on author demographics, genre representation, and historical popularity.\n"
   ]
  },
  {
   "cell_type": "code",
   "execution_count": 1,
   "id": "b08b3423-ef7e-47f6-a541-6dbb13e8c401",
   "metadata": {},
   "outputs": [],
   "source": [
    "import pandas as pd\n",
    "import altair as alt\n",
    "\n",
    "# Load the datasets\n",
    "top500_df = pd.read_csv(\"https://raw.githubusercontent.com/melaniewalsh/responsible-datasets-in-context/main/datasets/top-500-novels/library_top_500.csv\")\n",
    "nyt_df = pd.read_csv(\"https://raw.githubusercontent.com/ecds/post45-datasets/main/nyt_full.tsv\", sep=\"\\t\")"
   ]
  },
  {
   "cell_type": "markdown",
   "id": "d245d4a1-d6b8-41d7-aee5-8e579d78ec5c",
   "metadata": {},
   "source": [
    "## Initial Data Overview\n",
    "We start by inspecting the structure and basic information about each dataset, including missing values and data types.\n"
   ]
  },
  {
   "cell_type": "code",
   "execution_count": 2,
   "id": "ca5f842b-02c6-44f7-8f1a-0ab84302f1c4",
   "metadata": {},
   "outputs": [
    {
     "name": "stdout",
     "output_type": "stream",
     "text": [
      "Top 500 Novels Dataset Info:\n",
      "<class 'pandas.core.frame.DataFrame'>\n",
      "RangeIndex: 500 entries, 0 to 499\n",
      "Data columns (total 29 columns):\n",
      " #   Column                    Non-Null Count  Dtype  \n",
      "---  ------                    --------------  -----  \n",
      " 0   top_500_rank              500 non-null    int64  \n",
      " 1   title                     500 non-null    object \n",
      " 2   author                    500 non-null    object \n",
      " 3   pub_year                  500 non-null    int64  \n",
      " 4   orig_lang                 500 non-null    object \n",
      " 5   genre                     500 non-null    object \n",
      " 6   author_birth              499 non-null    object \n",
      " 7   author_death              496 non-null    object \n",
      " 8   author_gender             499 non-null    object \n",
      " 9   author_primary_lang       499 non-null    object \n",
      " 10  author_nationality        499 non-null    object \n",
      " 11  author_field_of_activity  329 non-null    object \n",
      " 12  author_occupation         458 non-null    object \n",
      " 13  oclc_holdings             495 non-null    float64\n",
      " 14  oclc_eholdings            495 non-null    float64\n",
      " 15  oclc_total_editions       495 non-null    float64\n",
      " 16  oclc_holdings_rank        495 non-null    float64\n",
      " 17  oclc_editions_rank        495 non-null    float64\n",
      " 18  gr_avg_rating             500 non-null    float64\n",
      " 19  gr_num_ratings            500 non-null    object \n",
      " 20  gr_num_reviews            500 non-null    object \n",
      " 21  gr_avg_rating_rank        500 non-null    int64  \n",
      " 22  gr_num_ratings_rank       500 non-null    int64  \n",
      " 23  oclc_owi                  495 non-null    float64\n",
      " 24  author_viaf               500 non-null    object \n",
      " 25  gr_url                    480 non-null    object \n",
      " 26  wiki_url                  500 non-null    object \n",
      " 27  pg_eng_url                500 non-null    object \n",
      " 28  pg_orig_url               64 non-null     object \n",
      "dtypes: float64(7), int64(4), object(18)\n",
      "memory usage: 113.4+ KB\n",
      "\n",
      "NYT Bestsellers Dataset Info:\n",
      "<class 'pandas.core.frame.DataFrame'>\n",
      "RangeIndex: 60386 entries, 0 to 60385\n",
      "Data columns (total 6 columns):\n",
      " #   Column    Non-Null Count  Dtype \n",
      "---  ------    --------------  ----- \n",
      " 0   year      60386 non-null  int64 \n",
      " 1   week      60386 non-null  object\n",
      " 2   rank      60386 non-null  int64 \n",
      " 3   title_id  60386 non-null  int64 \n",
      " 4   title     60386 non-null  object\n",
      " 5   author    60376 non-null  object\n",
      "dtypes: int64(3), object(3)\n",
      "memory usage: 2.8+ MB\n"
     ]
    }
   ],
   "source": [
    "# Display basic info about the datasets\n",
    "print(\"Top 500 Novels Dataset Info:\")\n",
    "top500_df.info()\n",
    "print(\"\\nNYT Bestsellers Dataset Info:\")\n",
    "nyt_df.info()"
   ]
  },
  {
   "cell_type": "markdown",
   "id": "d2939203-2768-4a31-bfa7-6e6f0b2a6489",
   "metadata": {},
   "source": [
    "### Handling Missing Data\n",
    "We will explore the missing data in the Top 500 Novels dataset and how it may affect our analysis. We use the `isna()` method to inspect missing values in specific columns and visualize their distribution.\n"
   ]
  },
  {
   "cell_type": "code",
   "execution_count": 3,
   "id": "dd2d90b9-5a3b-4f5c-8fe6-299f188347a0",
   "metadata": {},
   "outputs": [
    {
     "name": "stdout",
     "output_type": "stream",
     "text": [
      "\n",
      "Missing Data Overview:\n",
      "top_500_rank                  0\n",
      "title                         0\n",
      "author                        0\n",
      "pub_year                      0\n",
      "orig_lang                     0\n",
      "genre                         0\n",
      "author_birth                  1\n",
      "author_death                  4\n",
      "author_gender                 1\n",
      "author_primary_lang           1\n",
      "author_nationality            1\n",
      "author_field_of_activity    171\n",
      "author_occupation            42\n",
      "oclc_holdings                 5\n",
      "oclc_eholdings                5\n",
      "oclc_total_editions           5\n",
      "oclc_holdings_rank            5\n",
      "oclc_editions_rank            5\n",
      "gr_avg_rating                 0\n",
      "gr_num_ratings                0\n",
      "gr_num_reviews                0\n",
      "gr_avg_rating_rank            0\n",
      "gr_num_ratings_rank           0\n",
      "oclc_owi                      5\n",
      "author_viaf                   0\n",
      "gr_url                       20\n",
      "wiki_url                      0\n",
      "pg_eng_url                    0\n",
      "pg_orig_url                 436\n",
      "dtype: int64\n"
     ]
    }
   ],
   "source": [
    "# Check for missing values in key columns\n",
    "missing_data = top500_df.isna().sum()\n",
    "print(\"\\nMissing Data Overview:\")\n",
    "print(missing_data)"
   ]
  },
  {
   "cell_type": "markdown",
   "id": "4c7e889c-012e-452d-9e61-20db48e7a8a1",
   "metadata": {},
   "source": [
    "### Merging the Datasets\n",
    "We want to see if there are any common titles or authors between the datasets to understand the overlap. For this, we will use `merge()` and check the shared information between the two datasets.\n"
   ]
  },
  {
   "cell_type": "code",
   "execution_count": 4,
   "id": "13ac260e-bcb3-4b80-9a08-28f98eb54f11",
   "metadata": {},
   "outputs": [
    {
     "name": "stdout",
     "output_type": "stream",
     "text": [
      "Number of shared titles: 231\n"
     ]
    }
   ],
   "source": [
    "# Capitalize the title column for consistency\n",
    "nyt_df['title'] = nyt_df['title'].str.capitalize()\n",
    "\n",
    "# Merge the datasets based on common 'title' and 'author'\n",
    "merged_df = top500_df.merge(nyt_df, how='inner', on=['title', 'author'])\n",
    "print(f\"Number of shared titles: {len(merged_df)}\")"
   ]
  },
  {
   "cell_type": "markdown",
   "id": "b091db56-bb8f-4f02-8ef9-50a6b49a02b5",
   "metadata": {},
   "source": [
    "## Exploratory Data Analysis (EDA)\n",
    "The next step is to perform an EDA to identify any noticeable patterns or biases. We start by understanding the genre distribution and author demographics in the Top 500 dataset.\n"
   ]
  },
  {
   "cell_type": "code",
   "execution_count": 5,
   "id": "15d25d02-8f59-497a-ae9f-33f8f474f99a",
   "metadata": {},
   "outputs": [
    {
     "name": "stderr",
     "output_type": "stream",
     "text": [
      "/opt/anaconda3/lib/python3.12/site-packages/altair/utils/core.py:395: FutureWarning: the convert_dtype parameter is deprecated and will be removed in a future version.  Do ``ser.astype(object).apply()`` instead if you want ``convert_dtype=False``.\n",
      "  col = df[col_name].apply(to_list_if_array, convert_dtype=False)\n"
     ]
    },
    {
     "data": {
      "text/html": [
       "\n",
       "<style>\n",
       "  #altair-viz-a691f8f0ffa94efa923457132ea5f37f.vega-embed {\n",
       "    width: 100%;\n",
       "    display: flex;\n",
       "  }\n",
       "\n",
       "  #altair-viz-a691f8f0ffa94efa923457132ea5f37f.vega-embed details,\n",
       "  #altair-viz-a691f8f0ffa94efa923457132ea5f37f.vega-embed details summary {\n",
       "    position: relative;\n",
       "  }\n",
       "</style>\n",
       "<div id=\"altair-viz-a691f8f0ffa94efa923457132ea5f37f\"></div>\n",
       "<script type=\"text/javascript\">\n",
       "  var VEGA_DEBUG = (typeof VEGA_DEBUG == \"undefined\") ? {} : VEGA_DEBUG;\n",
       "  (function(spec, embedOpt){\n",
       "    let outputDiv = document.currentScript.previousElementSibling;\n",
       "    if (outputDiv.id !== \"altair-viz-a691f8f0ffa94efa923457132ea5f37f\") {\n",
       "      outputDiv = document.getElementById(\"altair-viz-a691f8f0ffa94efa923457132ea5f37f\");\n",
       "    }\n",
       "    const paths = {\n",
       "      \"vega\": \"https://cdn.jsdelivr.net/npm/vega@5?noext\",\n",
       "      \"vega-lib\": \"https://cdn.jsdelivr.net/npm/vega-lib?noext\",\n",
       "      \"vega-lite\": \"https://cdn.jsdelivr.net/npm/vega-lite@5.8.0?noext\",\n",
       "      \"vega-embed\": \"https://cdn.jsdelivr.net/npm/vega-embed@6?noext\",\n",
       "    };\n",
       "\n",
       "    function maybeLoadScript(lib, version) {\n",
       "      var key = `${lib.replace(\"-\", \"\")}_version`;\n",
       "      return (VEGA_DEBUG[key] == version) ?\n",
       "        Promise.resolve(paths[lib]) :\n",
       "        new Promise(function(resolve, reject) {\n",
       "          var s = document.createElement('script');\n",
       "          document.getElementsByTagName(\"head\")[0].appendChild(s);\n",
       "          s.async = true;\n",
       "          s.onload = () => {\n",
       "            VEGA_DEBUG[key] = version;\n",
       "            return resolve(paths[lib]);\n",
       "          };\n",
       "          s.onerror = () => reject(`Error loading script: ${paths[lib]}`);\n",
       "          s.src = paths[lib];\n",
       "        });\n",
       "    }\n",
       "\n",
       "    function showError(err) {\n",
       "      outputDiv.innerHTML = `<div class=\"error\" style=\"color:red;\">${err}</div>`;\n",
       "      throw err;\n",
       "    }\n",
       "\n",
       "    function displayChart(vegaEmbed) {\n",
       "      vegaEmbed(outputDiv, spec, embedOpt)\n",
       "        .catch(err => showError(`Javascript Error: ${err.message}<br>This usually means there's a typo in your chart specification. See the javascript console for the full traceback.`));\n",
       "    }\n",
       "\n",
       "    if(typeof define === \"function\" && define.amd) {\n",
       "      requirejs.config({paths});\n",
       "      require([\"vega-embed\"], displayChart, err => showError(`Error loading script: ${err.message}`));\n",
       "    } else {\n",
       "      maybeLoadScript(\"vega\", \"5\")\n",
       "        .then(() => maybeLoadScript(\"vega-lite\", \"5.8.0\"))\n",
       "        .then(() => maybeLoadScript(\"vega-embed\", \"6\"))\n",
       "        .catch(showError)\n",
       "        .then(() => displayChart(vegaEmbed));\n",
       "    }\n",
       "  })({\"config\": {\"view\": {\"continuousWidth\": 300, \"continuousHeight\": 300}}, \"data\": {\"name\": \"data-90bd82d8ab349ca8e370ac7a4ea75050\"}, \"mark\": {\"type\": \"bar\"}, \"encoding\": {\"color\": {\"field\": \"Genre\", \"type\": \"nominal\"}, \"x\": {\"field\": \"Count\", \"type\": \"quantitative\"}, \"y\": {\"field\": \"Genre\", \"sort\": \"-x\", \"type\": \"nominal\"}}, \"title\": \"Genre Distribution in Top 500 Novels\", \"$schema\": \"https://vega.github.io/schema/vega-lite/v5.8.0.json\", \"datasets\": {\"data-90bd82d8ab349ca8e370ac7a4ea75050\": [{\"Genre\": \"na\", \"Count\": 221}, {\"Genre\": \"history\", \"Count\": 53}, {\"Genre\": \"fantasy\", \"Count\": 48}, {\"Genre\": \"romance\", \"Count\": 33}, {\"Genre\": \"bildung\", \"Count\": 27}, {\"Genre\": \"scifi\", \"Count\": 21}, {\"Genre\": \"thrillers\", \"Count\": 21}, {\"Genre\": \"mystery\", \"Count\": 18}, {\"Genre\": \"action\", \"Count\": 16}, {\"Genre\": \"political\", \"Count\": 15}, {\"Genre\": \"horror\", \"Count\": 8}, {\"Genre\": \"autobio\", \"Count\": 8}, {\"Genre\": \"allegories\", \"Count\": 7}, {\"Genre\": \"war\", \"Count\": 4}]}}, {\"mode\": \"vega-lite\"});\n",
       "</script>"
      ],
      "text/plain": [
       "alt.Chart(...)"
      ]
     },
     "execution_count": 5,
     "metadata": {},
     "output_type": "execute_result"
    }
   ],
   "source": [
    "# Ensuring the genre column is of string type before plotting\n",
    "top500_df['genre'] = top500_df['genre'].astype(str)\n",
    "\n",
    "# Plot the distribution of genres\n",
    "genre_counts = top500_df['genre'].value_counts().reset_index()\n",
    "genre_counts.columns = ['Genre', 'Count']\n",
    "\n",
    "genre_chart = alt.Chart(genre_counts).mark_bar().encode(\n",
    "    x='Count:Q',\n",
    "    y=alt.Y('Genre:N', sort='-x'),\n",
    "    color='Genre:N'\n",
    ").properties(\n",
    "    title=\"Genre Distribution in Top 500 Novels\"\n",
    ")\n",
    "genre_chart"
   ]
  },
  {
   "cell_type": "markdown",
   "id": "f43d28ec-4d8e-46d3-b4b5-85c3803a1f42",
   "metadata": {},
   "source": [
    "### Author Demographics\n",
    "The chart below shows the distribution of author genders in the dataset, helping us understand whether there are any biases in the gender representation of top-ranked novels.\n"
   ]
  },
  {
   "cell_type": "code",
   "execution_count": 6,
   "id": "5cce7637-6aaf-4e48-9108-bd7cfe27bcf9",
   "metadata": {},
   "outputs": [
    {
     "name": "stderr",
     "output_type": "stream",
     "text": [
      "/opt/anaconda3/lib/python3.12/site-packages/altair/utils/core.py:395: FutureWarning: the convert_dtype parameter is deprecated and will be removed in a future version.  Do ``ser.astype(object).apply()`` instead if you want ``convert_dtype=False``.\n",
      "  col = df[col_name].apply(to_list_if_array, convert_dtype=False)\n"
     ]
    },
    {
     "data": {
      "text/html": [
       "\n",
       "<style>\n",
       "  #altair-viz-e1e7d2a5d1ed4b74959dc5bdd0697a3f.vega-embed {\n",
       "    width: 100%;\n",
       "    display: flex;\n",
       "  }\n",
       "\n",
       "  #altair-viz-e1e7d2a5d1ed4b74959dc5bdd0697a3f.vega-embed details,\n",
       "  #altair-viz-e1e7d2a5d1ed4b74959dc5bdd0697a3f.vega-embed details summary {\n",
       "    position: relative;\n",
       "  }\n",
       "</style>\n",
       "<div id=\"altair-viz-e1e7d2a5d1ed4b74959dc5bdd0697a3f\"></div>\n",
       "<script type=\"text/javascript\">\n",
       "  var VEGA_DEBUG = (typeof VEGA_DEBUG == \"undefined\") ? {} : VEGA_DEBUG;\n",
       "  (function(spec, embedOpt){\n",
       "    let outputDiv = document.currentScript.previousElementSibling;\n",
       "    if (outputDiv.id !== \"altair-viz-e1e7d2a5d1ed4b74959dc5bdd0697a3f\") {\n",
       "      outputDiv = document.getElementById(\"altair-viz-e1e7d2a5d1ed4b74959dc5bdd0697a3f\");\n",
       "    }\n",
       "    const paths = {\n",
       "      \"vega\": \"https://cdn.jsdelivr.net/npm/vega@5?noext\",\n",
       "      \"vega-lib\": \"https://cdn.jsdelivr.net/npm/vega-lib?noext\",\n",
       "      \"vega-lite\": \"https://cdn.jsdelivr.net/npm/vega-lite@5.8.0?noext\",\n",
       "      \"vega-embed\": \"https://cdn.jsdelivr.net/npm/vega-embed@6?noext\",\n",
       "    };\n",
       "\n",
       "    function maybeLoadScript(lib, version) {\n",
       "      var key = `${lib.replace(\"-\", \"\")}_version`;\n",
       "      return (VEGA_DEBUG[key] == version) ?\n",
       "        Promise.resolve(paths[lib]) :\n",
       "        new Promise(function(resolve, reject) {\n",
       "          var s = document.createElement('script');\n",
       "          document.getElementsByTagName(\"head\")[0].appendChild(s);\n",
       "          s.async = true;\n",
       "          s.onload = () => {\n",
       "            VEGA_DEBUG[key] = version;\n",
       "            return resolve(paths[lib]);\n",
       "          };\n",
       "          s.onerror = () => reject(`Error loading script: ${paths[lib]}`);\n",
       "          s.src = paths[lib];\n",
       "        });\n",
       "    }\n",
       "\n",
       "    function showError(err) {\n",
       "      outputDiv.innerHTML = `<div class=\"error\" style=\"color:red;\">${err}</div>`;\n",
       "      throw err;\n",
       "    }\n",
       "\n",
       "    function displayChart(vegaEmbed) {\n",
       "      vegaEmbed(outputDiv, spec, embedOpt)\n",
       "        .catch(err => showError(`Javascript Error: ${err.message}<br>This usually means there's a typo in your chart specification. See the javascript console for the full traceback.`));\n",
       "    }\n",
       "\n",
       "    if(typeof define === \"function\" && define.amd) {\n",
       "      requirejs.config({paths});\n",
       "      require([\"vega-embed\"], displayChart, err => showError(`Error loading script: ${err.message}`));\n",
       "    } else {\n",
       "      maybeLoadScript(\"vega\", \"5\")\n",
       "        .then(() => maybeLoadScript(\"vega-lite\", \"5.8.0\"))\n",
       "        .then(() => maybeLoadScript(\"vega-embed\", \"6\"))\n",
       "        .catch(showError)\n",
       "        .then(() => displayChart(vegaEmbed));\n",
       "    }\n",
       "  })({\"config\": {\"view\": {\"continuousWidth\": 300, \"continuousHeight\": 300}}, \"data\": {\"name\": \"data-d54f9b756deea4b3ebad7b2a3d00d3a3\"}, \"mark\": {\"type\": \"bar\"}, \"encoding\": {\"color\": {\"field\": \"Gender\", \"type\": \"nominal\"}, \"x\": {\"field\": \"Count\", \"type\": \"quantitative\"}, \"y\": {\"field\": \"Gender\", \"sort\": \"-x\", \"type\": \"nominal\"}}, \"title\": \"Author Gender Distribution in Top 500 Novels\", \"$schema\": \"https://vega.github.io/schema/vega-lite/v5.8.0.json\", \"datasets\": {\"data-d54f9b756deea4b3ebad7b2a3d00d3a3\": [{\"Gender\": \"male\", \"Count\": 354}, {\"Gender\": \"female\", \"Count\": 145}, {\"Gender\": \"nan\", \"Count\": 1}]}}, {\"mode\": \"vega-lite\"});\n",
       "</script>"
      ],
      "text/plain": [
       "alt.Chart(...)"
      ]
     },
     "execution_count": 6,
     "metadata": {},
     "output_type": "execute_result"
    }
   ],
   "source": [
    "# Ensuring author_gender is a string type before plotting\n",
    "top500_df['author_gender'] = top500_df['author_gender'].astype(str)\n",
    "\n",
    "# Count author genders\n",
    "gender_counts = top500_df['author_gender'].value_counts().reset_index()\n",
    "gender_counts.columns = ['Gender', 'Count']\n",
    "\n",
    "gender_chart = alt.Chart(gender_counts).mark_bar().encode(\n",
    "    x='Count:Q',\n",
    "    y=alt.Y('Gender:N', sort='-x'),\n",
    "    color='Gender:N'\n",
    ").properties(\n",
    "    title=\"Author Gender Distribution in Top 500 Novels\"\n",
    ")\n",
    "gender_chart"
   ]
  },
  {
   "cell_type": "markdown",
   "id": "8e34f28c-b6e3-4d63-9f25-7efb26de99df",
   "metadata": {},
   "source": [
    "### Genre Trends Over Time\n",
    "We analyze how genre popularity has evolved over the years by creating a line chart of genre frequency over time.\n"
   ]
  },
  {
   "cell_type": "code",
   "execution_count": 7,
   "id": "d256a364-86e5-46cc-8356-8d7bb1986ea7",
   "metadata": {},
   "outputs": [
    {
     "name": "stderr",
     "output_type": "stream",
     "text": [
      "/opt/anaconda3/lib/python3.12/site-packages/altair/utils/core.py:395: FutureWarning: the convert_dtype parameter is deprecated and will be removed in a future version.  Do ``ser.astype(object).apply()`` instead if you want ``convert_dtype=False``.\n",
      "  col = df[col_name].apply(to_list_if_array, convert_dtype=False)\n"
     ]
    },
    {
     "data": {
      "text/html": [
       "\n",
       "<style>\n",
       "  #altair-viz-d8359b0728e14a0b921a10009768d8cf.vega-embed {\n",
       "    width: 100%;\n",
       "    display: flex;\n",
       "  }\n",
       "\n",
       "  #altair-viz-d8359b0728e14a0b921a10009768d8cf.vega-embed details,\n",
       "  #altair-viz-d8359b0728e14a0b921a10009768d8cf.vega-embed details summary {\n",
       "    position: relative;\n",
       "  }\n",
       "</style>\n",
       "<div id=\"altair-viz-d8359b0728e14a0b921a10009768d8cf\"></div>\n",
       "<script type=\"text/javascript\">\n",
       "  var VEGA_DEBUG = (typeof VEGA_DEBUG == \"undefined\") ? {} : VEGA_DEBUG;\n",
       "  (function(spec, embedOpt){\n",
       "    let outputDiv = document.currentScript.previousElementSibling;\n",
       "    if (outputDiv.id !== \"altair-viz-d8359b0728e14a0b921a10009768d8cf\") {\n",
       "      outputDiv = document.getElementById(\"altair-viz-d8359b0728e14a0b921a10009768d8cf\");\n",
       "    }\n",
       "    const paths = {\n",
       "      \"vega\": \"https://cdn.jsdelivr.net/npm/vega@5?noext\",\n",
       "      \"vega-lib\": \"https://cdn.jsdelivr.net/npm/vega-lib?noext\",\n",
       "      \"vega-lite\": \"https://cdn.jsdelivr.net/npm/vega-lite@5.8.0?noext\",\n",
       "      \"vega-embed\": \"https://cdn.jsdelivr.net/npm/vega-embed@6?noext\",\n",
       "    };\n",
       "\n",
       "    function maybeLoadScript(lib, version) {\n",
       "      var key = `${lib.replace(\"-\", \"\")}_version`;\n",
       "      return (VEGA_DEBUG[key] == version) ?\n",
       "        Promise.resolve(paths[lib]) :\n",
       "        new Promise(function(resolve, reject) {\n",
       "          var s = document.createElement('script');\n",
       "          document.getElementsByTagName(\"head\")[0].appendChild(s);\n",
       "          s.async = true;\n",
       "          s.onload = () => {\n",
       "            VEGA_DEBUG[key] = version;\n",
       "            return resolve(paths[lib]);\n",
       "          };\n",
       "          s.onerror = () => reject(`Error loading script: ${paths[lib]}`);\n",
       "          s.src = paths[lib];\n",
       "        });\n",
       "    }\n",
       "\n",
       "    function showError(err) {\n",
       "      outputDiv.innerHTML = `<div class=\"error\" style=\"color:red;\">${err}</div>`;\n",
       "      throw err;\n",
       "    }\n",
       "\n",
       "    function displayChart(vegaEmbed) {\n",
       "      vegaEmbed(outputDiv, spec, embedOpt)\n",
       "        .catch(err => showError(`Javascript Error: ${err.message}<br>This usually means there's a typo in your chart specification. See the javascript console for the full traceback.`));\n",
       "    }\n",
       "\n",
       "    if(typeof define === \"function\" && define.amd) {\n",
       "      requirejs.config({paths});\n",
       "      require([\"vega-embed\"], displayChart, err => showError(`Error loading script: ${err.message}`));\n",
       "    } else {\n",
       "      maybeLoadScript(\"vega\", \"5\")\n",
       "        .then(() => maybeLoadScript(\"vega-lite\", \"5.8.0\"))\n",
       "        .then(() => maybeLoadScript(\"vega-embed\", \"6\"))\n",
       "        .catch(showError)\n",
       "        .then(() => displayChart(vegaEmbed));\n",
       "    }\n",
       "  })({\"config\": {\"view\": {\"continuousWidth\": 300, \"continuousHeight\": 300}}, \"data\": {\"name\": \"data-a2b0b965367dc95f3b8bbb465d96d363\"}, \"mark\": {\"type\": \"line\"}, \"encoding\": {\"color\": {\"field\": \"genre\", \"type\": \"nominal\"}, \"x\": {\"field\": \"pub_date\", \"type\": \"temporal\"}, \"y\": {\"field\": \"Count\", \"type\": \"quantitative\"}}, \"title\": \"Genre Trends Over Time in Top 500 Novels\", \"$schema\": \"https://vega.github.io/schema/vega-lite/v5.8.0.json\", \"datasets\": {\"data-a2b0b965367dc95f3b8bbb465d96d363\": [{\"pub_date\": \"1678-01-01T00:00:00\", \"genre\": \"allegories\", \"Count\": 1}, {\"pub_date\": \"1678-01-01T00:00:00\", \"genre\": \"na\", \"Count\": 1}, {\"pub_date\": \"1719-01-01T00:00:00\", \"genre\": \"action\", \"Count\": 1}, {\"pub_date\": \"1721-01-01T00:00:00\", \"genre\": \"na\", \"Count\": 1}, {\"pub_date\": \"1726-01-01T00:00:00\", \"genre\": \"fantasy\", \"Count\": 1}, {\"pub_date\": \"1749-01-01T00:00:00\", \"genre\": \"na\", \"Count\": 1}, {\"pub_date\": \"1759-01-01T00:00:00\", \"genre\": \"na\", \"Count\": 2}, {\"pub_date\": \"1766-01-01T00:00:00\", \"genre\": \"na\", \"Count\": 1}, {\"pub_date\": \"1768-01-01T00:00:00\", \"genre\": \"na\", \"Count\": 1}, {\"pub_date\": \"1774-01-01T00:00:00\", \"genre\": \"autobio\", \"Count\": 1}, {\"pub_date\": \"1782-01-01T00:00:00\", \"genre\": \"na\", \"Count\": 1}, {\"pub_date\": \"1791-01-01T00:00:00\", \"genre\": \"na\", \"Count\": 1}, {\"pub_date\": \"1811-01-01T00:00:00\", \"genre\": \"romance\", \"Count\": 1}, {\"pub_date\": \"1812-01-01T00:00:00\", \"genre\": \"na\", \"Count\": 1}, {\"pub_date\": \"1813-01-01T00:00:00\", \"genre\": \"romance\", \"Count\": 1}, {\"pub_date\": \"1814-01-01T00:00:00\", \"genre\": \"romance\", \"Count\": 1}, {\"pub_date\": \"1817-01-01T00:00:00\", \"genre\": \"history\", \"Count\": 1}, {\"pub_date\": \"1818-01-01T00:00:00\", \"genre\": \"horror\", \"Count\": 1}, {\"pub_date\": \"1818-01-01T00:00:00\", \"genre\": \"romance\", \"Count\": 2}, {\"pub_date\": \"1819-01-01T00:00:00\", \"genre\": \"history\", \"Count\": 1}, {\"pub_date\": \"1821-01-01T00:00:00\", \"genre\": \"history\", \"Count\": 1}, {\"pub_date\": \"1826-01-01T00:00:00\", \"genre\": \"history\", \"Count\": 1}, {\"pub_date\": \"1827-01-01T00:00:00\", \"genre\": \"history\", \"Count\": 1}, {\"pub_date\": \"1830-01-01T00:00:00\", \"genre\": \"bildung\", \"Count\": 1}, {\"pub_date\": \"1831-01-01T00:00:00\", \"genre\": \"history\", \"Count\": 1}, {\"pub_date\": \"1833-01-01T00:00:00\", \"genre\": \"allegories\", \"Count\": 1}, {\"pub_date\": \"1834-01-01T00:00:00\", \"genre\": \"history\", \"Count\": 1}, {\"pub_date\": \"1835-01-01T00:00:00\", \"genre\": \"bildung\", \"Count\": 1}, {\"pub_date\": \"1837-01-01T00:00:00\", \"genre\": \"na\", \"Count\": 1}, {\"pub_date\": \"1838-01-01T00:00:00\", \"genre\": \"bildung\", \"Count\": 1}, {\"pub_date\": \"1839-01-01T00:00:00\", \"genre\": \"bildung\", \"Count\": 1}, {\"pub_date\": \"1841-01-01T00:00:00\", \"genre\": \"na\", \"Count\": 1}, {\"pub_date\": \"1841-01-01T00:00:00\", \"genre\": \"political\", \"Count\": 1}, {\"pub_date\": \"1843-01-01T00:00:00\", \"genre\": \"na\", \"Count\": 1}, {\"pub_date\": \"1844-01-01T00:00:00\", \"genre\": \"history\", \"Count\": 1}, {\"pub_date\": \"1846-01-01T00:00:00\", \"genre\": \"history\", \"Count\": 1}, {\"pub_date\": \"1847-01-01T00:00:00\", \"genre\": \"na\", \"Count\": 1}, {\"pub_date\": \"1847-01-01T00:00:00\", \"genre\": \"romance\", \"Count\": 1}, {\"pub_date\": \"1848-01-01T00:00:00\", \"genre\": \"na\", \"Count\": 3}, {\"pub_date\": \"1849-01-01T00:00:00\", \"genre\": \"history\", \"Count\": 1}, {\"pub_date\": \"1850-01-01T00:00:00\", \"genre\": \"bildung\", \"Count\": 1}, {\"pub_date\": \"1850-01-01T00:00:00\", \"genre\": \"history\", \"Count\": 1}, {\"pub_date\": \"1850-01-01T00:00:00\", \"genre\": \"na\", \"Count\": 1}, {\"pub_date\": \"1851-01-01T00:00:00\", \"genre\": \"na\", \"Count\": 2}, {\"pub_date\": \"1852-01-01T00:00:00\", \"genre\": \"political\", \"Count\": 1}, {\"pub_date\": \"1853-01-01T00:00:00\", \"genre\": \"na\", \"Count\": 3}, {\"pub_date\": \"1854-01-01T00:00:00\", \"genre\": \"na\", \"Count\": 1}, {\"pub_date\": \"1855-01-01T00:00:00\", \"genre\": \"na\", \"Count\": 1}, {\"pub_date\": \"1857-01-01T00:00:00\", \"genre\": \"na\", \"Count\": 3}, {\"pub_date\": \"1859-01-01T00:00:00\", \"genre\": \"history\", \"Count\": 1}, {\"pub_date\": \"1859-01-01T00:00:00\", \"genre\": \"romance\", \"Count\": 1}, {\"pub_date\": \"1860-01-01T00:00:00\", \"genre\": \"na\", \"Count\": 2}, {\"pub_date\": \"1861-01-01T00:00:00\", \"genre\": \"bildung\", \"Count\": 1}, {\"pub_date\": \"1861-01-01T00:00:00\", \"genre\": \"na\", \"Count\": 1}, {\"pub_date\": \"1862-01-01T00:00:00\", \"genre\": \"na\", \"Count\": 2}, {\"pub_date\": \"1864-01-01T00:00:00\", \"genre\": \"scifi\", \"Count\": 1}, {\"pub_date\": \"1865-01-01T00:00:00\", \"genre\": \"fantasy\", \"Count\": 1}, {\"pub_date\": \"1865-01-01T00:00:00\", \"genre\": \"romance\", \"Count\": 1}, {\"pub_date\": \"1866-01-01T00:00:00\", \"genre\": \"na\", \"Count\": 1}, {\"pub_date\": \"1868-01-01T00:00:00\", \"genre\": \"mystery\", \"Count\": 1}, {\"pub_date\": \"1868-01-01T00:00:00\", \"genre\": \"na\", \"Count\": 1}, {\"pub_date\": \"1869-01-01T00:00:00\", \"genre\": \"history\", \"Count\": 3}, {\"pub_date\": \"1870-01-01T00:00:00\", \"genre\": \"na\", \"Count\": 1}, {\"pub_date\": \"1870-01-01T00:00:00\", \"genre\": \"scifi\", \"Count\": 1}, {\"pub_date\": \"1872-01-01T00:00:00\", \"genre\": \"fantasy\", \"Count\": 1}, {\"pub_date\": \"1872-01-01T00:00:00\", \"genre\": \"na\", \"Count\": 1}, {\"pub_date\": \"1873-01-01T00:00:00\", \"genre\": \"action\", \"Count\": 1}, {\"pub_date\": \"1874-01-01T00:00:00\", \"genre\": \"romance\", \"Count\": 1}, {\"pub_date\": \"1875-01-01T00:00:00\", \"genre\": \"scifi\", \"Count\": 1}, {\"pub_date\": \"1876-01-01T00:00:00\", \"genre\": \"action\", \"Count\": 1}, {\"pub_date\": \"1877-01-01T00:00:00\", \"genre\": \"na\", \"Count\": 1}, {\"pub_date\": \"1878-01-01T00:00:00\", \"genre\": \"romance\", \"Count\": 2}, {\"pub_date\": \"1880-01-01T00:00:00\", \"genre\": \"history\", \"Count\": 1}, {\"pub_date\": \"1880-01-01T00:00:00\", \"genre\": \"na\", \"Count\": 3}, {\"pub_date\": \"1881-01-01T00:00:00\", \"genre\": \"history\", \"Count\": 1}, {\"pub_date\": \"1881-01-01T00:00:00\", \"genre\": \"na\", \"Count\": 1}, {\"pub_date\": \"1883-01-01T00:00:00\", \"genre\": \"action\", \"Count\": 1}, {\"pub_date\": \"1883-01-01T00:00:00\", \"genre\": \"na\", \"Count\": 2}, {\"pub_date\": \"1884-01-01T00:00:00\", \"genre\": \"action\", \"Count\": 1}, {\"pub_date\": \"1884-01-01T00:00:00\", \"genre\": \"na\", \"Count\": 1}, {\"pub_date\": \"1885-01-01T00:00:00\", \"genre\": \"action\", \"Count\": 1}, {\"pub_date\": \"1885-01-01T00:00:00\", \"genre\": \"na\", \"Count\": 1}, {\"pub_date\": \"1885-01-01T00:00:00\", \"genre\": \"political\", \"Count\": 1}, {\"pub_date\": \"1886-01-01T00:00:00\", \"genre\": \"history\", \"Count\": 1}, {\"pub_date\": \"1886-01-01T00:00:00\", \"genre\": \"na\", \"Count\": 3}, {\"pub_date\": \"1888-01-01T00:00:00\", \"genre\": \"history\", \"Count\": 1}, {\"pub_date\": \"1888-01-01T00:00:00\", \"genre\": \"na\", \"Count\": 1}, {\"pub_date\": \"1889-01-01T00:00:00\", \"genre\": \"fantasy\", \"Count\": 1}, {\"pub_date\": \"1890-01-01T00:00:00\", \"genre\": \"na\", \"Count\": 1}, {\"pub_date\": \"1891-01-01T00:00:00\", \"genre\": \"na\", \"Count\": 1}, {\"pub_date\": \"1895-01-01T00:00:00\", \"genre\": \"history\", \"Count\": 1}, {\"pub_date\": \"1895-01-01T00:00:00\", \"genre\": \"na\", \"Count\": 1}, {\"pub_date\": \"1895-01-01T00:00:00\", \"genre\": \"scifi\", \"Count\": 1}, {\"pub_date\": \"1896-01-01T00:00:00\", \"genre\": \"history\", \"Count\": 1}, {\"pub_date\": \"1897-01-01T00:00:00\", \"genre\": \"bildung\", \"Count\": 1}, {\"pub_date\": \"1897-01-01T00:00:00\", \"genre\": \"na\", \"Count\": 2}, {\"pub_date\": \"1898-01-01T00:00:00\", \"genre\": \"scifi\", \"Count\": 1}, {\"pub_date\": \"1899-01-01T00:00:00\", \"genre\": \"na\", \"Count\": 1}, {\"pub_date\": \"1900-01-01T00:00:00\", \"genre\": \"fantasy\", \"Count\": 1}, {\"pub_date\": \"1900-01-01T00:00:00\", \"genre\": \"na\", \"Count\": 2}, {\"pub_date\": \"1901-01-01T00:00:00\", \"genre\": \"action\", \"Count\": 1}, {\"pub_date\": \"1901-01-01T00:00:00\", \"genre\": \"na\", \"Count\": 1}, {\"pub_date\": \"1902-01-01T00:00:00\", \"genre\": \"mystery\", \"Count\": 1}, {\"pub_date\": \"1902-01-01T00:00:00\", \"genre\": \"na\", \"Count\": 2}, {\"pub_date\": \"1902-01-01T00:00:00\", \"genre\": \"romance\", \"Count\": 1}, {\"pub_date\": \"1903-01-01T00:00:00\", \"genre\": \"action\", \"Count\": 1}, {\"pub_date\": \"1903-01-01T00:00:00\", \"genre\": \"na\", \"Count\": 3}, {\"pub_date\": \"1904-01-01T00:00:00\", \"genre\": \"na\", \"Count\": 1}, {\"pub_date\": \"1904-01-01T00:00:00\", \"genre\": \"political\", \"Count\": 1}, {\"pub_date\": \"1905-01-01T00:00:00\", \"genre\": \"na\", \"Count\": 1}, {\"pub_date\": \"1906-01-01T00:00:00\", \"genre\": \"action\", \"Count\": 1}, {\"pub_date\": \"1906-01-01T00:00:00\", \"genre\": \"political\", \"Count\": 1}, {\"pub_date\": \"1907-01-01T00:00:00\", \"genre\": \"political\", \"Count\": 1}, {\"pub_date\": \"1908-01-01T00:00:00\", \"genre\": \"bildung\", \"Count\": 1}, {\"pub_date\": \"1908-01-01T00:00:00\", \"genre\": \"fantasy\", \"Count\": 1}, {\"pub_date\": \"1908-01-01T00:00:00\", \"genre\": \"na\", \"Count\": 2}, {\"pub_date\": \"1909-01-01T00:00:00\", \"genre\": \"na\", \"Count\": 1}, {\"pub_date\": \"1910-01-01T00:00:00\", \"genre\": \"horror\", \"Count\": 1}, {\"pub_date\": \"1910-01-01T00:00:00\", \"genre\": \"na\", \"Count\": 1}, {\"pub_date\": \"1911-01-01T00:00:00\", \"genre\": \"fantasy\", \"Count\": 1}, {\"pub_date\": \"1911-01-01T00:00:00\", \"genre\": \"na\", \"Count\": 2}, {\"pub_date\": \"1912-01-01T00:00:00\", \"genre\": \"na\", \"Count\": 1}, {\"pub_date\": \"1913-01-01T00:00:00\", \"genre\": \"autobio\", \"Count\": 2}, {\"pub_date\": \"1913-01-01T00:00:00\", \"genre\": \"na\", \"Count\": 2}, {\"pub_date\": \"1915-01-01T00:00:00\", \"genre\": \"bildung\", \"Count\": 1}, {\"pub_date\": \"1915-01-01T00:00:00\", \"genre\": \"na\", \"Count\": 3}, {\"pub_date\": \"1916-01-01T00:00:00\", \"genre\": \"bildung\", \"Count\": 1}, {\"pub_date\": \"1918-01-01T00:00:00\", \"genre\": \"na\", \"Count\": 1}, {\"pub_date\": \"1919-01-01T00:00:00\", \"genre\": \"na\", \"Count\": 2}, {\"pub_date\": \"1920-01-01T00:00:00\", \"genre\": \"bildung\", \"Count\": 1}, {\"pub_date\": \"1920-01-01T00:00:00\", \"genre\": \"na\", \"Count\": 3}, {\"pub_date\": \"1922-01-01T00:00:00\", \"genre\": \"na\", \"Count\": 4}, {\"pub_date\": \"1924-01-01T00:00:00\", \"genre\": \"bildung\", \"Count\": 1}, {\"pub_date\": \"1924-01-01T00:00:00\", \"genre\": \"political\", \"Count\": 1}, {\"pub_date\": \"1925-01-01T00:00:00\", \"genre\": \"allegories\", \"Count\": 1}, {\"pub_date\": \"1925-01-01T00:00:00\", \"genre\": \"na\", \"Count\": 3}, {\"pub_date\": \"1925-01-01T00:00:00\", \"genre\": \"romance\", \"Count\": 1}, {\"pub_date\": \"1926-01-01T00:00:00\", \"genre\": \"allegories\", \"Count\": 1}, {\"pub_date\": \"1926-01-01T00:00:00\", \"genre\": \"history\", \"Count\": 1}, {\"pub_date\": \"1926-01-01T00:00:00\", \"genre\": \"mystery\", \"Count\": 1}, {\"pub_date\": \"1927-01-01T00:00:00\", \"genre\": \"history\", \"Count\": 2}, {\"pub_date\": \"1927-01-01T00:00:00\", \"genre\": \"na\", \"Count\": 2}, {\"pub_date\": \"1928-01-01T00:00:00\", \"genre\": \"history\", \"Count\": 1}, {\"pub_date\": \"1928-01-01T00:00:00\", \"genre\": \"na\", \"Count\": 1}, {\"pub_date\": \"1929-01-01T00:00:00\", \"genre\": \"na\", \"Count\": 2}, {\"pub_date\": \"1929-01-01T00:00:00\", \"genre\": \"war\", \"Count\": 2}, {\"pub_date\": \"1930-01-01T00:00:00\", \"genre\": \"mystery\", \"Count\": 2}, {\"pub_date\": \"1930-01-01T00:00:00\", \"genre\": \"na\", \"Count\": 1}, {\"pub_date\": \"1931-01-01T00:00:00\", \"genre\": \"na\", \"Count\": 1}, {\"pub_date\": \"1932-01-01T00:00:00\", \"genre\": \"history\", \"Count\": 1}, {\"pub_date\": \"1932-01-01T00:00:00\", \"genre\": \"na\", \"Count\": 2}, {\"pub_date\": \"1933-01-01T00:00:00\", \"genre\": \"fantasy\", \"Count\": 1}, {\"pub_date\": \"1934-01-01T00:00:00\", \"genre\": \"fantasy\", \"Count\": 1}, {\"pub_date\": \"1934-01-01T00:00:00\", \"genre\": \"mystery\", \"Count\": 1}, {\"pub_date\": \"1934-01-01T00:00:00\", \"genre\": \"na\", \"Count\": 1}, {\"pub_date\": \"1935-01-01T00:00:00\", \"genre\": \"autobio\", \"Count\": 1}, {\"pub_date\": \"1935-01-01T00:00:00\", \"genre\": \"na\", \"Count\": 2}, {\"pub_date\": \"1936-01-01T00:00:00\", \"genre\": \"history\", \"Count\": 1}, {\"pub_date\": \"1936-01-01T00:00:00\", \"genre\": \"na\", \"Count\": 1}, {\"pub_date\": \"1937-01-01T00:00:00\", \"genre\": \"action\", \"Count\": 1}, {\"pub_date\": \"1937-01-01T00:00:00\", \"genre\": \"autobio\", \"Count\": 1}, {\"pub_date\": \"1937-01-01T00:00:00\", \"genre\": \"bildung\", \"Count\": 1}, {\"pub_date\": \"1937-01-01T00:00:00\", \"genre\": \"fantasy\", \"Count\": 1}, {\"pub_date\": \"1937-01-01T00:00:00\", \"genre\": \"na\", \"Count\": 2}, {\"pub_date\": \"1938-01-01T00:00:00\", \"genre\": \"na\", \"Count\": 2}, {\"pub_date\": \"1938-01-01T00:00:00\", \"genre\": \"romance\", \"Count\": 1}, {\"pub_date\": \"1939-01-01T00:00:00\", \"genre\": \"autobio\", \"Count\": 1}, {\"pub_date\": \"1939-01-01T00:00:00\", \"genre\": \"mystery\", \"Count\": 1}, {\"pub_date\": \"1939-01-01T00:00:00\", \"genre\": \"na\", \"Count\": 2}, {\"pub_date\": \"1940-01-01T00:00:00\", \"genre\": \"autobio\", \"Count\": 1}, {\"pub_date\": \"1940-01-01T00:00:00\", \"genre\": \"history\", \"Count\": 2}, {\"pub_date\": \"1940-01-01T00:00:00\", \"genre\": \"mystery\", \"Count\": 1}, {\"pub_date\": \"1940-01-01T00:00:00\", \"genre\": \"na\", \"Count\": 2}, {\"pub_date\": \"1940-01-01T00:00:00\", \"genre\": \"war\", \"Count\": 1}, {\"pub_date\": \"1941-01-01T00:00:00\", \"genre\": \"history\", \"Count\": 1}, {\"pub_date\": \"1942-01-01T00:00:00\", \"genre\": \"na\", \"Count\": 2}, {\"pub_date\": \"1943-01-01T00:00:00\", \"genre\": \"history\", \"Count\": 2}, {\"pub_date\": \"1943-01-01T00:00:00\", \"genre\": \"na\", \"Count\": 3}, {\"pub_date\": \"1944-01-01T00:00:00\", \"genre\": \"bildung\", \"Count\": 1}, {\"pub_date\": \"1945-01-01T00:00:00\", \"genre\": \"action\", \"Count\": 1}, {\"pub_date\": \"1945-01-01T00:00:00\", \"genre\": \"na\", \"Count\": 2}, {\"pub_date\": \"1945-01-01T00:00:00\", \"genre\": \"political\", \"Count\": 1}, {\"pub_date\": \"1945-01-01T00:00:00\", \"genre\": \"romance\", \"Count\": 1}, {\"pub_date\": \"1946-01-01T00:00:00\", \"genre\": \"political\", \"Count\": 1}, {\"pub_date\": \"1947-01-01T00:00:00\", \"genre\": \"na\", \"Count\": 3}, {\"pub_date\": \"1948-01-01T00:00:00\", \"genre\": \"history\", \"Count\": 2}, {\"pub_date\": \"1948-01-01T00:00:00\", \"genre\": \"na\", \"Count\": 1}, {\"pub_date\": \"1948-01-01T00:00:00\", \"genre\": \"political\", \"Count\": 1}, {\"pub_date\": \"1949-01-01T00:00:00\", \"genre\": \"political\", \"Count\": 1}, {\"pub_date\": \"1950-01-01T00:00:00\", \"genre\": \"fantasy\", \"Count\": 1}, {\"pub_date\": \"1950-01-01T00:00:00\", \"genre\": \"scifi\", \"Count\": 1}, {\"pub_date\": \"1951-01-01T00:00:00\", \"genre\": \"bildung\", \"Count\": 1}, {\"pub_date\": \"1951-01-01T00:00:00\", \"genre\": \"fantasy\", \"Count\": 1}, {\"pub_date\": \"1951-01-01T00:00:00\", \"genre\": \"na\", \"Count\": 1}, {\"pub_date\": \"1952-01-01T00:00:00\", \"genre\": \"allegories\", \"Count\": 1}, {\"pub_date\": \"1952-01-01T00:00:00\", \"genre\": \"fantasy\", \"Count\": 2}, {\"pub_date\": \"1952-01-01T00:00:00\", \"genre\": \"na\", \"Count\": 2}, {\"pub_date\": \"1953-01-01T00:00:00\", \"genre\": \"bildung\", \"Count\": 1}, {\"pub_date\": \"1953-01-01T00:00:00\", \"genre\": \"fantasy\", \"Count\": 1}, {\"pub_date\": \"1953-01-01T00:00:00\", \"genre\": \"scifi\", \"Count\": 1}, {\"pub_date\": \"1954-01-01T00:00:00\", \"genre\": \"fantasy\", \"Count\": 3}, {\"pub_date\": \"1954-01-01T00:00:00\", \"genre\": \"na\", \"Count\": 1}, {\"pub_date\": \"1955-01-01T00:00:00\", \"genre\": \"fantasy\", \"Count\": 2}, {\"pub_date\": \"1955-01-01T00:00:00\", \"genre\": \"political\", \"Count\": 1}, {\"pub_date\": \"1955-01-01T00:00:00\", \"genre\": \"romance\", \"Count\": 1}, {\"pub_date\": \"1956-01-01T00:00:00\", \"genre\": \"bildung\", \"Count\": 1}, {\"pub_date\": \"1956-01-01T00:00:00\", \"genre\": \"fantasy\", \"Count\": 1}, {\"pub_date\": \"1956-01-01T00:00:00\", \"genre\": \"na\", \"Count\": 1}, {\"pub_date\": \"1957-01-01T00:00:00\", \"genre\": \"autobio\", \"Count\": 1}, {\"pub_date\": \"1957-01-01T00:00:00\", \"genre\": \"history\", \"Count\": 1}, {\"pub_date\": \"1957-01-01T00:00:00\", \"genre\": \"scifi\", \"Count\": 1}, {\"pub_date\": \"1958-01-01T00:00:00\", \"genre\": \"fantasy\", \"Count\": 1}, {\"pub_date\": \"1958-01-01T00:00:00\", \"genre\": \"history\", \"Count\": 2}, {\"pub_date\": \"1958-01-01T00:00:00\", \"genre\": \"na\", \"Count\": 2}, {\"pub_date\": \"1959-01-01T00:00:00\", \"genre\": \"history\", \"Count\": 1}, {\"pub_date\": \"1959-01-01T00:00:00\", \"genre\": \"na\", \"Count\": 1}, {\"pub_date\": \"1960-01-01T00:00:00\", \"genre\": \"na\", \"Count\": 2}, {\"pub_date\": \"1961-01-01T00:00:00\", \"genre\": \"action\", \"Count\": 1}, {\"pub_date\": \"1961-01-01T00:00:00\", \"genre\": \"bildung\", \"Count\": 1}, {\"pub_date\": \"1961-01-01T00:00:00\", \"genre\": \"fantasy\", \"Count\": 1}, {\"pub_date\": \"1961-01-01T00:00:00\", \"genre\": \"na\", \"Count\": 2}, {\"pub_date\": \"1961-01-01T00:00:00\", \"genre\": \"scifi\", \"Count\": 1}, {\"pub_date\": \"1961-01-01T00:00:00\", \"genre\": \"war\", \"Count\": 1}, {\"pub_date\": \"1962-01-01T00:00:00\", \"genre\": \"na\", \"Count\": 2}, {\"pub_date\": \"1962-01-01T00:00:00\", \"genre\": \"scifi\", \"Count\": 2}, {\"pub_date\": \"1963-01-01T00:00:00\", \"genre\": \"mystery\", \"Count\": 1}, {\"pub_date\": \"1963-01-01T00:00:00\", \"genre\": \"na\", \"Count\": 2}, {\"pub_date\": \"1963-01-01T00:00:00\", \"genre\": \"scifi\", \"Count\": 1}, {\"pub_date\": \"1964-01-01T00:00:00\", \"genre\": \"mystery\", \"Count\": 1}, {\"pub_date\": \"1965-01-01T00:00:00\", \"genre\": \"na\", \"Count\": 1}, {\"pub_date\": \"1966-01-01T00:00:00\", \"genre\": \"na\", \"Count\": 2}, {\"pub_date\": \"1967-01-01T00:00:00\", \"genre\": \"na\", \"Count\": 3}, {\"pub_date\": \"1967-01-01T00:00:00\", \"genre\": \"political\", \"Count\": 1}, {\"pub_date\": \"1968-01-01T00:00:00\", \"genre\": \"na\", \"Count\": 1}, {\"pub_date\": \"1969-01-01T00:00:00\", \"genre\": \"na\", \"Count\": 1}, {\"pub_date\": \"1969-01-01T00:00:00\", \"genre\": \"scifi\", \"Count\": 1}, {\"pub_date\": \"1970-01-01T00:00:00\", \"genre\": \"allegories\", \"Count\": 1}, {\"pub_date\": \"1970-01-01T00:00:00\", \"genre\": \"bildung\", \"Count\": 1}, {\"pub_date\": \"1970-01-01T00:00:00\", \"genre\": \"fantasy\", \"Count\": 1}, {\"pub_date\": \"1970-01-01T00:00:00\", \"genre\": \"na\", \"Count\": 2}, {\"pub_date\": \"1971-01-01T00:00:00\", \"genre\": \"fantasy\", \"Count\": 1}, {\"pub_date\": \"1972-01-01T00:00:00\", \"genre\": \"action\", \"Count\": 1}, {\"pub_date\": \"1972-01-01T00:00:00\", \"genre\": \"allegories\", \"Count\": 1}, {\"pub_date\": \"1972-01-01T00:00:00\", \"genre\": \"na\", \"Count\": 1}, {\"pub_date\": \"1973-01-01T00:00:00\", \"genre\": \"fantasy\", \"Count\": 1}, {\"pub_date\": \"1973-01-01T00:00:00\", \"genre\": \"history\", \"Count\": 1}, {\"pub_date\": \"1973-01-01T00:00:00\", \"genre\": \"na\", \"Count\": 1}, {\"pub_date\": \"1974-01-01T00:00:00\", \"genre\": \"bildung\", \"Count\": 2}, {\"pub_date\": \"1974-01-01T00:00:00\", \"genre\": \"history\", \"Count\": 1}, {\"pub_date\": \"1974-01-01T00:00:00\", \"genre\": \"horror\", \"Count\": 1}, {\"pub_date\": \"1975-01-01T00:00:00\", \"genre\": \"fantasy\", \"Count\": 2}, {\"pub_date\": \"1976-01-01T00:00:00\", \"genre\": \"history\", \"Count\": 1}, {\"pub_date\": \"1976-01-01T00:00:00\", \"genre\": \"na\", \"Count\": 1}, {\"pub_date\": \"1977-01-01T00:00:00\", \"genre\": \"fantasy\", \"Count\": 2}, {\"pub_date\": \"1977-01-01T00:00:00\", \"genre\": \"horror\", \"Count\": 1}, {\"pub_date\": \"1977-01-01T00:00:00\", \"genre\": \"na\", \"Count\": 3}, {\"pub_date\": \"1978-01-01T00:00:00\", \"genre\": \"horror\", \"Count\": 1}, {\"pub_date\": \"1978-01-01T00:00:00\", \"genre\": \"mystery\", \"Count\": 1}, {\"pub_date\": \"1979-01-01T00:00:00\", \"genre\": \"bildung\", \"Count\": 1}, {\"pub_date\": \"1979-01-01T00:00:00\", \"genre\": \"scifi\", \"Count\": 1}, {\"pub_date\": \"1980-01-01T00:00:00\", \"genre\": \"fantasy\", \"Count\": 1}, {\"pub_date\": \"1980-01-01T00:00:00\", \"genre\": \"history\", \"Count\": 2}, {\"pub_date\": \"1980-01-01T00:00:00\", \"genre\": \"na\", \"Count\": 1}, {\"pub_date\": \"1981-01-01T00:00:00\", \"genre\": \"na\", \"Count\": 2}, {\"pub_date\": \"1982-01-01T00:00:00\", \"genre\": \"fantasy\", \"Count\": 1}, {\"pub_date\": \"1982-01-01T00:00:00\", \"genre\": \"na\", \"Count\": 3}, {\"pub_date\": \"1983-01-01T00:00:00\", \"genre\": \"na\", \"Count\": 2}, {\"pub_date\": \"1984-01-01T00:00:00\", \"genre\": \"bildung\", \"Count\": 1}, {\"pub_date\": \"1985-01-01T00:00:00\", \"genre\": \"bildung\", \"Count\": 1}, {\"pub_date\": \"1985-01-01T00:00:00\", \"genre\": \"history\", \"Count\": 1}, {\"pub_date\": \"1985-01-01T00:00:00\", \"genre\": \"na\", \"Count\": 2}, {\"pub_date\": \"1985-01-01T00:00:00\", \"genre\": \"romance\", \"Count\": 1}, {\"pub_date\": \"1985-01-01T00:00:00\", \"genre\": \"scifi\", \"Count\": 1}, {\"pub_date\": \"1986-01-01T00:00:00\", \"genre\": \"action\", \"Count\": 2}, {\"pub_date\": \"1986-01-01T00:00:00\", \"genre\": \"horror\", \"Count\": 1}, {\"pub_date\": \"1987-01-01T00:00:00\", \"genre\": \"history\", \"Count\": 1}, {\"pub_date\": \"1987-01-01T00:00:00\", \"genre\": \"horror\", \"Count\": 1}, {\"pub_date\": \"1987-01-01T00:00:00\", \"genre\": \"na\", \"Count\": 1}, {\"pub_date\": \"1988-01-01T00:00:00\", \"genre\": \"na\", \"Count\": 2}, {\"pub_date\": \"1989-01-01T00:00:00\", \"genre\": \"history\", \"Count\": 3}, {\"pub_date\": \"1989-01-01T00:00:00\", \"genre\": \"na\", \"Count\": 3}, {\"pub_date\": \"1989-01-01T00:00:00\", \"genre\": \"romance\", \"Count\": 1}, {\"pub_date\": \"1990-01-01T00:00:00\", \"genre\": \"na\", \"Count\": 1}, {\"pub_date\": \"1990-01-01T00:00:00\", \"genre\": \"scifi\", \"Count\": 1}, {\"pub_date\": \"1991-01-01T00:00:00\", \"genre\": \"na\", \"Count\": 2}, {\"pub_date\": \"1992-01-01T00:00:00\", \"genre\": \"history\", \"Count\": 1}, {\"pub_date\": \"1992-01-01T00:00:00\", \"genre\": \"mystery\", \"Count\": 1}, {\"pub_date\": \"1992-01-01T00:00:00\", \"genre\": \"romance\", \"Count\": 1}, {\"pub_date\": \"1993-01-01T00:00:00\", \"genre\": \"na\", \"Count\": 2}, {\"pub_date\": \"1993-01-01T00:00:00\", \"genre\": \"scifi\", \"Count\": 1}, {\"pub_date\": \"1994-01-01T00:00:00\", \"genre\": \"bildung\", \"Count\": 1}, {\"pub_date\": \"1994-01-01T00:00:00\", \"genre\": \"na\", \"Count\": 2}, {\"pub_date\": \"1995-01-01T00:00:00\", \"genre\": \"na\", \"Count\": 4}, {\"pub_date\": \"1996-01-01T00:00:00\", \"genre\": \"fantasy\", \"Count\": 1}, {\"pub_date\": \"1996-01-01T00:00:00\", \"genre\": \"romance\", \"Count\": 1}, {\"pub_date\": \"1996-01-01T00:00:00\", \"genre\": \"thrillers\", \"Count\": 1}, {\"pub_date\": \"1997-01-01T00:00:00\", \"genre\": \"fantasy\", \"Count\": 2}, {\"pub_date\": \"1997-01-01T00:00:00\", \"genre\": \"history\", \"Count\": 1}, {\"pub_date\": \"1997-01-01T00:00:00\", \"genre\": \"na\", \"Count\": 1}, {\"pub_date\": \"1997-01-01T00:00:00\", \"genre\": \"romance\", \"Count\": 1}, {\"pub_date\": \"1997-01-01T00:00:00\", \"genre\": \"thrillers\", \"Count\": 1}, {\"pub_date\": \"1998-01-01T00:00:00\", \"genre\": \"fantasy\", \"Count\": 1}, {\"pub_date\": \"1998-01-01T00:00:00\", \"genre\": \"mystery\", \"Count\": 1}, {\"pub_date\": \"1998-01-01T00:00:00\", \"genre\": \"na\", \"Count\": 2}, {\"pub_date\": \"1998-01-01T00:00:00\", \"genre\": \"romance\", \"Count\": 1}, {\"pub_date\": \"1998-01-01T00:00:00\", \"genre\": \"thrillers\", \"Count\": 1}, {\"pub_date\": \"1999-01-01T00:00:00\", \"genre\": \"fantasy\", \"Count\": 1}, {\"pub_date\": \"1999-01-01T00:00:00\", \"genre\": \"history\", \"Count\": 1}, {\"pub_date\": \"1999-01-01T00:00:00\", \"genre\": \"na\", \"Count\": 1}, {\"pub_date\": \"1999-01-01T00:00:00\", \"genre\": \"romance\", \"Count\": 1}, {\"pub_date\": \"1999-01-01T00:00:00\", \"genre\": \"thrillers\", \"Count\": 1}, {\"pub_date\": \"2000-01-01T00:00:00\", \"genre\": \"fantasy\", \"Count\": 2}, {\"pub_date\": \"2000-01-01T00:00:00\", \"genre\": \"na\", \"Count\": 1}, {\"pub_date\": \"2000-01-01T00:00:00\", \"genre\": \"thrillers\", \"Count\": 2}, {\"pub_date\": \"2001-01-01T00:00:00\", \"genre\": \"fantasy\", \"Count\": 1}, {\"pub_date\": \"2001-01-01T00:00:00\", \"genre\": \"horror\", \"Count\": 1}, {\"pub_date\": \"2001-01-01T00:00:00\", \"genre\": \"mystery\", \"Count\": 1}, {\"pub_date\": \"2001-01-01T00:00:00\", \"genre\": \"na\", \"Count\": 4}, {\"pub_date\": \"2001-01-01T00:00:00\", \"genre\": \"political\", \"Count\": 1}, {\"pub_date\": \"2002-01-01T00:00:00\", \"genre\": \"fantasy\", \"Count\": 1}, {\"pub_date\": \"2002-01-01T00:00:00\", \"genre\": \"na\", \"Count\": 2}, {\"pub_date\": \"2002-01-01T00:00:00\", \"genre\": \"romance\", \"Count\": 1}, {\"pub_date\": \"2002-01-01T00:00:00\", \"genre\": \"thrillers\", \"Count\": 1}, {\"pub_date\": \"2003-01-01T00:00:00\", \"genre\": \"bildung\", \"Count\": 1}, {\"pub_date\": \"2003-01-01T00:00:00\", \"genre\": \"fantasy\", \"Count\": 2}, {\"pub_date\": \"2003-01-01T00:00:00\", \"genre\": \"mystery\", \"Count\": 2}, {\"pub_date\": \"2003-01-01T00:00:00\", \"genre\": \"na\", \"Count\": 4}, {\"pub_date\": \"2003-01-01T00:00:00\", \"genre\": \"romance\", \"Count\": 1}, {\"pub_date\": \"2003-01-01T00:00:00\", \"genre\": \"thrillers\", \"Count\": 1}, {\"pub_date\": \"2004-01-01T00:00:00\", \"genre\": \"na\", \"Count\": 1}, {\"pub_date\": \"2004-01-01T00:00:00\", \"genre\": \"thrillers\", \"Count\": 1}, {\"pub_date\": \"2005-01-01T00:00:00\", \"genre\": \"bildung\", \"Count\": 1}, {\"pub_date\": \"2005-01-01T00:00:00\", \"genre\": \"fantasy\", \"Count\": 3}, {\"pub_date\": \"2005-01-01T00:00:00\", \"genre\": \"na\", \"Count\": 1}, {\"pub_date\": \"2005-01-01T00:00:00\", \"genre\": \"political\", \"Count\": 1}, {\"pub_date\": \"2005-01-01T00:00:00\", \"genre\": \"romance\", \"Count\": 1}, {\"pub_date\": \"2005-01-01T00:00:00\", \"genre\": \"thrillers\", \"Count\": 2}, {\"pub_date\": \"2006-01-01T00:00:00\", \"genre\": \"fantasy\", \"Count\": 1}, {\"pub_date\": \"2006-01-01T00:00:00\", \"genre\": \"history\", \"Count\": 1}, {\"pub_date\": \"2006-01-01T00:00:00\", \"genre\": \"na\", \"Count\": 3}, {\"pub_date\": \"2006-01-01T00:00:00\", \"genre\": \"romance\", \"Count\": 1}, {\"pub_date\": \"2007-01-01T00:00:00\", \"genre\": \"fantasy\", \"Count\": 1}, {\"pub_date\": \"2007-01-01T00:00:00\", \"genre\": \"na\", \"Count\": 5}, {\"pub_date\": \"2007-01-01T00:00:00\", \"genre\": \"romance\", \"Count\": 2}, {\"pub_date\": \"2007-01-01T00:00:00\", \"genre\": \"thrillers\", \"Count\": 1}, {\"pub_date\": \"2008-01-01T00:00:00\", \"genre\": \"mystery\", \"Count\": 1}, {\"pub_date\": \"2008-01-01T00:00:00\", \"genre\": \"na\", \"Count\": 2}, {\"pub_date\": \"2008-01-01T00:00:00\", \"genre\": \"romance\", \"Count\": 2}, {\"pub_date\": \"2008-01-01T00:00:00\", \"genre\": \"scifi\", \"Count\": 1}, {\"pub_date\": \"2008-01-01T00:00:00\", \"genre\": \"thrillers\", \"Count\": 1}, {\"pub_date\": \"2009-01-01T00:00:00\", \"genre\": \"history\", \"Count\": 1}, {\"pub_date\": \"2009-01-01T00:00:00\", \"genre\": \"mystery\", \"Count\": 1}, {\"pub_date\": \"2009-01-01T00:00:00\", \"genre\": \"na\", \"Count\": 2}, {\"pub_date\": \"2009-01-01T00:00:00\", \"genre\": \"romance\", \"Count\": 1}, {\"pub_date\": \"2009-01-01T00:00:00\", \"genre\": \"scifi\", \"Count\": 2}, {\"pub_date\": \"2009-01-01T00:00:00\", \"genre\": \"thrillers\", \"Count\": 5}, {\"pub_date\": \"2010-01-01T00:00:00\", \"genre\": \"na\", \"Count\": 2}, {\"pub_date\": \"2010-01-01T00:00:00\", \"genre\": \"scifi\", \"Count\": 1}, {\"pub_date\": \"2010-01-01T00:00:00\", \"genre\": \"thrillers\", \"Count\": 1}, {\"pub_date\": \"2011-01-01T00:00:00\", \"genre\": \"na\", \"Count\": 1}, {\"pub_date\": \"2012-01-01T00:00:00\", \"genre\": \"romance\", \"Count\": 1}, {\"pub_date\": \"2012-01-01T00:00:00\", \"genre\": \"thrillers\", \"Count\": 1}, {\"pub_date\": \"2013-01-01T00:00:00\", \"genre\": \"thrillers\", \"Count\": 1}, {\"pub_date\": \"2014-01-01T00:00:00\", \"genre\": \"na\", \"Count\": 1}, {\"pub_date\": \"2015-01-01T00:00:00\", \"genre\": \"na\", \"Count\": 2}]}}, {\"mode\": \"vega-lite\"});\n",
       "</script>"
      ],
      "text/plain": [
       "alt.Chart(...)"
      ]
     },
     "execution_count": 7,
     "metadata": {},
     "output_type": "execute_result"
    }
   ],
   "source": [
    "# Create a datetime column for the publication year\n",
    "top500_df['pub_date'] = pd.to_datetime(top500_df['pub_year'].astype(str) + '-01-01', format='%Y-%m-%d', errors='coerce')\n",
    "\n",
    "# Group and count genres by publication date\n",
    "genre_over_time = top500_df.groupby(['pub_date', 'genre']).size().reset_index(name='Count')\n",
    "\n",
    "trend_chart = alt.Chart(genre_over_time).mark_line().encode(\n",
    "    x='pub_date:T',\n",
    "    y='Count:Q',\n",
    "    color='genre:N'\n",
    ").properties(\n",
    "    title=\"Genre Trends Over Time in Top 500 Novels\"\n",
    ")\n",
    "trend_chart"
   ]
  },
  {
   "cell_type": "markdown",
   "id": "b2ec9fbf-36e5-45b9-b9f9-dfbc5682b01d",
   "metadata": {},
   "source": [
    "## Conclusion\n",
    "Through our analysis, we observe potential biases in author gender and genre popularity. The merged dataset helps us understand overlaps between the Top 500 Greatest Novels and NYT Bestsellers, showing a trend in shared authors but not necessarily shared titles. This analysis informs future research in literature, helping to understand which genres or authors are given more visibility and why."
   ]
  }
 ],
 "metadata": {
  "kernelspec": {
   "display_name": "Python 3 (ipykernel)",
   "language": "python",
   "name": "python3"
  },
  "language_info": {
   "codemirror_mode": {
    "name": "ipython",
    "version": 3
   },
   "file_extension": ".py",
   "mimetype": "text/x-python",
   "name": "python",
   "nbconvert_exporter": "python",
   "pygments_lexer": "ipython3",
   "version": "3.12.2"
  }
 },
 "nbformat": 4,
 "nbformat_minor": 5
}
